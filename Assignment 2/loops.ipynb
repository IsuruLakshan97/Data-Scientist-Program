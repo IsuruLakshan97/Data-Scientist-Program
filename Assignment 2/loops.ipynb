{
 "cells": [
  {
   "cell_type": "code",
   "execution_count": 4,
   "metadata": {},
   "outputs": [],
   "source": [
    "# **** PYTHON LOOPS **** #\n",
    "\n",
    "# in progamming loops are used to do iterative tasks\n",
    "# There are mainly 2 types of loops\n",
    "#   1. While Loops\n",
    "#   2. For Loops\n",
    "#  a loop is always executes based on a codition\n",
    "#  to run a loop that condition must be true\n",
    "#  when the condition false loop exit and move forward "
   ]
  },
  {
   "cell_type": "code",
   "execution_count": 5,
   "metadata": {},
   "outputs": [
    {
     "name": "stdout",
     "output_type": "stream",
     "text": [
      "0\n",
      "1\n",
      "2\n",
      "3\n",
      "4\n",
      "5\n",
      "6\n",
      "7\n",
      "8\n",
      "9\n"
     ]
    }
   ],
   "source": [
    "# For loops\n",
    "# There are several ways we can write a for loop in python \n",
    "# these are different based on the situation\n",
    "\n",
    "# 1st way\n",
    "# iterate over a defined number of times\n",
    "\n",
    "for i in range(10):\n",
    "    print(i)"
   ]
  },
  {
   "cell_type": "code",
   "execution_count": 6,
   "metadata": {},
   "outputs": [
    {
     "name": "stdout",
     "output_type": "stream",
     "text": [
      "ford\n",
      "lamborghini\n",
      "toyota\n"
     ]
    }
   ],
   "source": [
    "#2nd way\n",
    " \n",
    "#iterate over the items in an array\n",
    "\n",
    "cars = [\"ford\", \"lamborghini\", \"toyota\"]\n",
    "for x in cars:\n",
    "  print(x)"
   ]
  },
  {
   "cell_type": "code",
   "execution_count": 7,
   "metadata": {},
   "outputs": [
    {
     "name": "stdout",
     "output_type": "stream",
     "text": [
      "d\n",
      "a\n",
      "t\n",
      "a\n",
      "s\n",
      "c\n",
      "i\n",
      "e\n",
      "n\n",
      "e\n"
     ]
    }
   ],
   "source": [
    "#3rd way\n",
    "\n",
    "#iterate over charachters of a string\n",
    "for x in \"datasciene\":\n",
    "  print(x)"
   ]
  },
  {
   "cell_type": "code",
   "execution_count": 8,
   "metadata": {},
   "outputs": [
    {
     "name": "stdout",
     "output_type": "stream",
     "text": [
      "1\n",
      "2\n",
      "3\n",
      "4\n",
      "5\n",
      "6\n",
      "7\n",
      "8\n",
      "9\n"
     ]
    }
   ],
   "source": [
    "#WHILE loop\n",
    "\n",
    "#while loop executes as long as a condition is true\n",
    "\n",
    "i = 1\n",
    "while i < 10:\n",
    "  print(i)\n",
    "  i += 1"
   ]
  },
  {
   "cell_type": "code",
   "execution_count": 9,
   "metadata": {},
   "outputs": [
    {
     "name": "stdout",
     "output_type": "stream",
     "text": [
      "1\n",
      "2\n",
      "3\n",
      "4\n",
      "5\n"
     ]
    }
   ],
   "source": [
    "# we can terminate or skip some code potions in loops using keywords break and continue\n",
    "\n",
    "#break keyword\n",
    "# break keyword terminates an executing loop\n",
    "# here the loop terminates when i equels to number 5\n",
    "\n",
    "i = 1\n",
    "while i < 10:\n",
    "  print(i)\n",
    "  if i == 5:\n",
    "    break\n",
    "  i += 1"
   ]
  },
  {
   "cell_type": "code",
   "execution_count": 10,
   "metadata": {},
   "outputs": [
    {
     "name": "stdout",
     "output_type": "stream",
     "text": [
      "1\n",
      "2\n",
      "3\n",
      "4\n",
      "5\n",
      "7\n",
      "8\n",
      "9\n",
      "10\n"
     ]
    }
   ],
   "source": [
    "#continue keyword\n",
    "# continue keyword excludes some portion of code from executing and continue the loop\n",
    "# here the loop continue without executing print command when i equals to 6\n",
    "\n",
    "i = 0\n",
    "while i < 10:\n",
    "  i += 1\n",
    "  if i == 6:\n",
    "    continue\n",
    "  print(i)"
   ]
  }
 ],
 "metadata": {
  "interpreter": {
   "hash": "2db524e06e9f5f4ffedc911c917cb75e12dbc923643829bf417064a77eb14d37"
  },
  "kernelspec": {
   "display_name": "Python 3.8.5 64-bit",
   "name": "python3"
  },
  "language_info": {
   "codemirror_mode": {
    "name": "ipython",
    "version": 3
   },
   "file_extension": ".py",
   "mimetype": "text/x-python",
   "name": "python",
   "nbconvert_exporter": "python",
   "pygments_lexer": "ipython3",
   "version": "3.8.5"
  },
  "orig_nbformat": 4
 },
 "nbformat": 4,
 "nbformat_minor": 2
}
