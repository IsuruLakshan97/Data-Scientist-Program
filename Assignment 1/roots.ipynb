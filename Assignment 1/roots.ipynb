{
 "cells": [
  {
   "cell_type": "code",
   "execution_count": 7,
   "source": [
    "# import math package to get support of square root\r\n",
    "import math\r\n",
    "\r\n",
    "# Welcome the User\r\n",
    "print('###  Quadtratic Equation Solver  ###')\r\n",
    "\r\n",
    "# infinite loop to iterate over retries\r\n",
    "while(1):\r\n",
    "    # get user inputs for corresponding coefficients of quadtratic equation\r\n",
    "    a = float(input('enter a value: '))\r\n",
    "    b = float(input('enter b value: '))\r\n",
    "    c = float(input('enter c value: '))\r\n",
    "    \r\n",
    "    # check weather the equation is quadtratic or not if not one root is there\r\n",
    "    if a == 0:\r\n",
    "        root1 = -c / b\r\n",
    "        root2 = -c / b\r\n",
    "    else:\r\n",
    "        # try to calculate roots\r\n",
    "        try:\r\n",
    "            root1 = (-b + math.sqrt(b*b-4*a*c)) / 2*a\r\n",
    "            root2 = (-b - math.sqrt(b*b-4*a*c)) / 2*a\r\n",
    "        \r\n",
    "        # if roots are imaginary abort\r\n",
    "        except:\r\n",
    "            print('no real roots for this equation')\r\n",
    "            usrInput = input('Do you want to retry?? y/n: ')\r\n",
    "            #check wether the user need to exit\r\n",
    "            if (usrInput == 'n'):\r\n",
    "                break\r\n",
    "            else:\r\n",
    "                continue\r\n",
    "    \r\n",
    "    # console out the resulting roots\r\n",
    "    print('First Root: ' + str(root1))\r\n",
    "    print('Second Root: ' + str(root2))\r\n",
    "\r\n",
    "    usrInput = input('Do you want to restart?? y/n: ')\r\n",
    "    #check wether the user need to exit\r\n",
    "    if (usrInput == 'n'):\r\n",
    "        break\r\n",
    "\r\n",
    "# greet the user\r\n",
    "print('### Thank you for using Root calculater ###')"
   ],
   "outputs": [
    {
     "output_type": "stream",
     "name": "stdout",
     "text": [
      "###  Quadtratic Equation Solver  ###\n",
      "First Root: -1.0\n",
      "Second Root: -1.0\n",
      "### Thank you for using Root calculater ###\n"
     ]
    }
   ],
   "metadata": {}
  },
  {
   "cell_type": "code",
   "execution_count": null,
   "source": [],
   "outputs": [],
   "metadata": {}
  }
 ],
 "metadata": {
  "orig_nbformat": 4,
  "language_info": {
   "name": "python",
   "version": "3.8.5",
   "mimetype": "text/x-python",
   "codemirror_mode": {
    "name": "ipython",
    "version": 3
   },
   "pygments_lexer": "ipython3",
   "nbconvert_exporter": "python",
   "file_extension": ".py"
  },
  "kernelspec": {
   "name": "python3",
   "display_name": "Python 3.8.5 64-bit"
  },
  "interpreter": {
   "hash": "2db524e06e9f5f4ffedc911c917cb75e12dbc923643829bf417064a77eb14d37"
  }
 },
 "nbformat": 4,
 "nbformat_minor": 2
}