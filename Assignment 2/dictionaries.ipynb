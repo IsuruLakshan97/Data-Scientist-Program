{
 "cells": [
  {
   "cell_type": "code",
   "execution_count": 20,
   "metadata": {},
   "outputs": [],
   "source": [
    "# **** PYTHON DICTIONARY **** #\n",
    "\n",
    "    # Python dictionies are used to store data as key value pairs\n",
    "    # Therefore using dictionaries we can do ADD, SEARCH, EDIT operations given the key of a particular tuple\n",
    "    # i can rtrieve the value using keys whereas in python arrays we have to have an index to do that. that is the main difference\n",
    "    # of dictionary and arrays in python"
   ]
  },
  {
   "cell_type": "code",
   "execution_count": 21,
   "metadata": {},
   "outputs": [
    {
     "name": "stdout",
     "output_type": "stream",
     "text": [
      "{'name': 'Isuru Lakshan', 'age': 25, 'university': 'University of Peradeniya'}\n"
     ]
    }
   ],
   "source": [
    "#dictionary initiation\n",
    "dictionary = {\n",
    "  \"name\": \"Isuru Lakshan\",\n",
    "  \"age\": 25,\n",
    "  \"university\": \"University of Peradeniya\"\n",
    "}\n",
    "\n",
    "print(dictionary)\n",
    "\n",
    "# here keys are name, age, university and their particular values are state in front of them "
   ]
  },
  {
   "cell_type": "code",
   "execution_count": 22,
   "metadata": {},
   "outputs": [
    {
     "name": "stdout",
     "output_type": "stream",
     "text": [
      "{'name': 'Isuru Lakshan', 'age': 25, 'university': 'University of Peradeniya'}\n"
     ]
    }
   ],
   "source": [
    "dictionary_2 = dict({\n",
    "  \"name\": \"Isuru Lakshan\",\n",
    "  \"age\": 25,\n",
    "  \"university\": \"University of Peradeniya\"\n",
    "})\n",
    "print(dictionary_2)"
   ]
  },
  {
   "cell_type": "code",
   "execution_count": 23,
   "metadata": {},
   "outputs": [
    {
     "name": "stdout",
     "output_type": "stream",
     "text": [
      "25\n",
      "25\n",
      "<class 'int'>\n"
     ]
    }
   ],
   "source": [
    "#now i can ritrieve each value using key\n",
    "\n",
    "print(dictionary['age'])\n",
    "print(dictionary.get('age'))\n",
    "print(type(dictionary['age']))"
   ]
  },
  {
   "cell_type": "code",
   "execution_count": 24,
   "metadata": {},
   "outputs": [
    {
     "name": "stdout",
     "output_type": "stream",
     "text": [
      "{'name': 'Isuru Lakshan', 'age': 27, 'university': 'University of Peradeniya'}\n",
      "{'name': 'Isuru Lakshan', 'age': 27, 'university': 'University of Peradeniya', 'address': 'Colombo Srilanka'}\n"
     ]
    }
   ],
   "source": [
    "# update value\n",
    "dictionary['age'] = 27\n",
    "\n",
    "# output:{'name': 'Isuru Lakshan', 'age': 27, 'university': 'University of Peradeniya'}\n",
    "# age got updated as key is in the the dictionary\n",
    "print(dictionary)\n",
    "\n",
    "# add item\n",
    "dictionary['address'] = 'Colombo Srilanka'\n",
    "\n",
    "#output : {'name': 'Isuru Lakshan', 'age': 27, 'university': 'University of Peradeniya', 'address': 'Colombo Srilanka'}\n",
    "print(dictionary)"
   ]
  },
  {
   "cell_type": "code",
   "execution_count": 25,
   "metadata": {},
   "outputs": [
    {
     "name": "stdout",
     "output_type": "stream",
     "text": [
      "True\n",
      "True\n",
      "False\n"
     ]
    }
   ],
   "source": [
    "#key check\n",
    "\n",
    "# Output: True\n",
    "print('age' in dictionary)\n",
    "\n",
    "# Output: True\n",
    "print('studentID' not in dictionary)\n",
    "\n",
    "# this checks keys only not values\n",
    "# Output: False\n",
    "print('Isuru Lakshan' in dictionary)"
   ]
  },
  {
   "cell_type": "code",
   "execution_count": 19,
   "metadata": {},
   "outputs": [
    {
     "name": "stdout",
     "output_type": "stream",
     "text": [
      "27\n",
      "{'name': 'Isuru Lakshan', 'university': 'University of Peradeniya', 'address': 'Colombo Srilanka'}\n",
      "('address', 'Colombo Srilanka')\n",
      "{'name': 'Isuru Lakshan', 'university': 'University of Peradeniya'}\n",
      "{}\n"
     ]
    },
    {
     "ename": "NameError",
     "evalue": "name 'dictionary' is not defined",
     "output_type": "error",
     "traceback": [
      "\u001b[1;31m---------------------------------------------------------------------------\u001b[0m",
      "\u001b[1;31mNameError\u001b[0m                                 Traceback (most recent call last)",
      "\u001b[1;32m<ipython-input-19-a2bfc57b7eb6>\u001b[0m in \u001b[0;36m<module>\u001b[1;34m\u001b[0m\n\u001b[0;32m     23\u001b[0m \u001b[1;33m\u001b[0m\u001b[0m\n\u001b[0;32m     24\u001b[0m \u001b[1;31m# no dictionry to print so throw an error\u001b[0m\u001b[1;33m\u001b[0m\u001b[1;33m\u001b[0m\u001b[1;33m\u001b[0m\u001b[0m\n\u001b[1;32m---> 25\u001b[1;33m \u001b[0mprint\u001b[0m\u001b[1;33m(\u001b[0m\u001b[0mdictionary\u001b[0m\u001b[1;33m)\u001b[0m\u001b[1;33m\u001b[0m\u001b[1;33m\u001b[0m\u001b[0m\n\u001b[0m",
      "\u001b[1;31mNameError\u001b[0m: name 'dictionary' is not defined"
     ]
    }
   ],
   "source": [
    "# remove a particular item, returns its value\n",
    "# Output: return the age 27\n",
    "print(dictionary.pop('age'))\n",
    "\n",
    "# Output: {'name': 'Isuru Lakshan', 'university': 'University of Peradeniya', 'address': 'Colombo Srilanka'}\n",
    "print(dictionary)\n",
    "\n",
    "# remove an arbitrary item, return (key,value)\n",
    "# Output: ('address', 'Colombo Srilanka')\n",
    "print(dictionary.popitem())\n",
    "\n",
    "# Output: {'name': 'Isuru Lakshan', 'university': 'University of Peradeniya'}\n",
    "print(dictionary)\n",
    "\n",
    "# remove all items\n",
    "dictionary.clear()\n",
    "\n",
    "# Output: {}\n",
    "print(dictionary)\n",
    "\n",
    "# delete the dictionary itself\n",
    "del dictionary\n",
    "\n",
    "# no dictionry to print so throw an error\n",
    "print(dictionary)"
   ]
  },
  {
   "cell_type": "code",
   "execution_count": null,
   "metadata": {},
   "outputs": [],
   "source": [
    "# this is the basic idea of what is an dictionary in python"
   ]
  }
 ],
 "metadata": {
  "interpreter": {
   "hash": "65f6436d5881596287bd595b47d8304ca80701c7eb1a0df1f96cc6b8e047ff3d"
  },
  "kernelspec": {
   "display_name": "Python 3.7.6 64-bit ('base': conda)",
   "name": "python3"
  },
  "language_info": {
   "codemirror_mode": {
    "name": "ipython",
    "version": 3
   },
   "file_extension": ".py",
   "mimetype": "text/x-python",
   "name": "python",
   "nbconvert_exporter": "python",
   "pygments_lexer": "ipython3",
   "version": "3.7.6"
  },
  "orig_nbformat": 4
 },
 "nbformat": 4,
 "nbformat_minor": 2
}
