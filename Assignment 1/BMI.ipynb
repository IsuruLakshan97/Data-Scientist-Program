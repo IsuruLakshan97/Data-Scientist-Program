{
 "cells": [
  {
   "cell_type": "code",
   "execution_count": 1,
   "source": [
    "# Welcome the User\r\n",
    "print('###  BMI Calculater  ###')\r\n",
    "\r\n",
    "# infinite loop where user enters and get the BMI values\r\n",
    "while(1):\r\n",
    "    # Prompt the user to enter weight and height\r\n",
    "    weight = float(input('Enter your Weight in Kilograms: '))\r\n",
    "    height = float(input('Enter your height in meters: '))\r\n",
    "\r\n",
    "    #the formula to calculate the BMI\r\n",
    "    BMI = (weight) / ((height) * (height))\r\n",
    "\r\n",
    "    # Write the value to the console\r\n",
    "    print('Your BMI is :' + str(BMI))\r\n",
    "\r\n",
    "    # deciding which category the user belongs\r\n",
    "    if BMI < 18.5:\r\n",
    "        print('Alert!! You are underweight')\r\n",
    "    elif 18.5 < BMI & BMI < 24.9:\r\n",
    "        print('Great! You are Normal weight')\r\n",
    "    elif 18.5 < BMI & BMI < 24.9:\r\n",
    "        print('Alert! You are over weight')\r\n",
    "    else:\r\n",
    "        print('Warning! You have obesity')\r\n",
    "    usrInput = input('Do you want to restart?? y/n: ')\r\n",
    "    #check wether the user need to exit\r\n",
    "    if (usrInput == 'n'):\r\n",
    "        break\r\n",
    "\r\n",
    "# greet the user\r\n",
    "print('### Thank you for using BMI calculater ###')"
   ],
   "outputs": [
    {
     "output_type": "stream",
     "name": "stdout",
     "text": [
      "###  BMI Calculater  ###\n",
      "Your BMI is :14.5\n",
      "Alert!! You are underweight\n",
      "### Thank you for using BMI calculater ###\n"
     ]
    }
   ],
   "metadata": {}
  },
  {
   "cell_type": "code",
   "execution_count": null,
   "source": [],
   "outputs": [],
   "metadata": {}
  }
 ],
 "metadata": {
  "orig_nbformat": 4,
  "language_info": {
   "name": "python",
   "version": "3.8.5",
   "mimetype": "text/x-python",
   "codemirror_mode": {
    "name": "ipython",
    "version": 3
   },
   "pygments_lexer": "ipython3",
   "nbconvert_exporter": "python",
   "file_extension": ".py"
  },
  "kernelspec": {
   "name": "python3",
   "display_name": "Python 3.8.5 64-bit"
  },
  "interpreter": {
   "hash": "2db524e06e9f5f4ffedc911c917cb75e12dbc923643829bf417064a77eb14d37"
  }
 },
 "nbformat": 4,
 "nbformat_minor": 2
}