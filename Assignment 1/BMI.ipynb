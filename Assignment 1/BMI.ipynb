{
 "cells": [
  {
   "cell_type": "code",
   "execution_count": 7,
   "source": [
    "print('###  BMI Calculater  ###')\r\n",
    "while(1):\r\n",
    "    weight = float(input('Enter your Weight in Kilograms: '))\r\n",
    "    height = float(input('Enter your height in meters: '))\r\n",
    "    BMI = (weight) / ((height) * (height))\r\n",
    "    print('Your BMI is :' + str(BMI))\r\n",
    "    usrInput = input('Do you want to restart?? y/n: ')\r\n",
    "    if (usrInput == 'n'):\r\n",
    "        break\r\n",
    "print('### Thank you for using BMI calculater ###')"
   ],
   "outputs": [
    {
     "output_type": "stream",
     "name": "stdout",
     "text": [
      "BMI Calculater\n",
      "Your BMI is :14.5\n",
      "Thank you for using BMI calculater\n"
     ]
    }
   ],
   "metadata": {}
  },
  {
   "cell_type": "code",
   "execution_count": null,
   "source": [],
   "outputs": [],
   "metadata": {}
  }
 ],
 "metadata": {
  "orig_nbformat": 4,
  "language_info": {
   "name": "python",
   "version": "3.8.5",
   "mimetype": "text/x-python",
   "codemirror_mode": {
    "name": "ipython",
    "version": 3
   },
   "pygments_lexer": "ipython3",
   "nbconvert_exporter": "python",
   "file_extension": ".py"
  },
  "kernelspec": {
   "name": "python3",
   "display_name": "Python 3.8.5 64-bit"
  },
  "interpreter": {
   "hash": "2db524e06e9f5f4ffedc911c917cb75e12dbc923643829bf417064a77eb14d37"
  }
 },
 "nbformat": 4,
 "nbformat_minor": 2
}