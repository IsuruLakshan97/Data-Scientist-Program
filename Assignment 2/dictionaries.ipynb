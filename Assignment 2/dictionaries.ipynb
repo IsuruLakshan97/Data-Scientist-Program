{
 "cells": [
  {
   "cell_type": "code",
   "execution_count": null,
   "metadata": {},
   "outputs": [],
   "source": [
    "# **** PYTHON DICTIONARY **** #\n",
    "\n",
    "    # Python dictionies are used to store data as key value pairs\n",
    "    # Therefore using dictionaries we can do ADD, SEARCH, EDIT operations given the key of a particular tuple\n",
    "    # i can rtrieve the value using keys whereas in python arrays we have to have an index to do that. that is the main difference\n",
    "    # of dictionary and arrays in python"
   ]
  },
  {
   "cell_type": "code",
   "execution_count": 1,
   "metadata": {},
   "outputs": [
    {
     "name": "stdout",
     "output_type": "stream",
     "text": [
      "{'name': 'Isuru Lakshan', 'age': 25, 'university': 'University of Peradeniya'}\n"
     ]
    }
   ],
   "source": [
    "#dictionary initiation\n",
    "dictionary = {\n",
    "  \"name\": \"Isuru Lakshan\",\n",
    "  \"age\": 25,\n",
    "  \"university\": \"University of Peradeniya\"\n",
    "}\n",
    "\n",
    "print(dictionary)\n",
    "\n",
    "# here keys are name, age, university and their particular values are state in front of them "
   ]
  },
  {
   "cell_type": "code",
   "execution_count": 5,
   "metadata": {},
   "outputs": [
    {
     "name": "stdout",
     "output_type": "stream",
     "text": [
      "25\n",
      "<class 'int'>\n"
     ]
    }
   ],
   "source": [
    "#now i can ritrieve each value using key\n",
    "\n",
    "print(dictionary['age'])\n",
    "print(type(dictionary['age']))"
   ]
  },
  {
   "cell_type": "code",
   "execution_count": null,
   "metadata": {},
   "outputs": [],
   "source": [
    "# this is the basic idea of what is an dictionary in python"
   ]
  }
 ],
 "metadata": {
  "interpreter": {
   "hash": "65f6436d5881596287bd595b47d8304ca80701c7eb1a0df1f96cc6b8e047ff3d"
  },
  "kernelspec": {
   "display_name": "Python 3.7.6 64-bit ('base': conda)",
   "name": "python3"
  },
  "language_info": {
   "codemirror_mode": {
    "name": "ipython",
    "version": 3
   },
   "file_extension": ".py",
   "mimetype": "text/x-python",
   "name": "python",
   "nbconvert_exporter": "python",
   "pygments_lexer": "ipython3",
   "version": "3.7.6"
  },
  "orig_nbformat": 4
 },
 "nbformat": 4,
 "nbformat_minor": 2
}
